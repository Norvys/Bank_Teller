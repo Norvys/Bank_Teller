{
  "nbformat": 4,
  "nbformat_minor": 0,
  "metadata": {
    "kernelspec": {
      "display_name": "Python 3",
      "language": "python",
      "name": "python3"
    },
    "language_info": {
      "codemirror_mode": {
        "name": "ipython",
        "version": 3
      },
      "file_extension": ".py",
      "mimetype": "text/x-python",
      "name": "python",
      "nbconvert_exporter": "python",
      "pygments_lexer": "ipython3",
      "version": "3.8.3"
    },
    "latex_envs": {
      "LaTeX_envs_menu_present": true,
      "autoclose": false,
      "autocomplete": true,
      "bibliofile": "biblio.bib",
      "cite_by": "apalike",
      "current_citInitial": 1,
      "eqLabelWithNumbers": true,
      "eqNumInitial": 1,
      "hotkeys": {
        "equation": "Ctrl-E",
        "itemize": "Ctrl-I"
      },
      "labels_anchors": false,
      "latex_user_defs": false,
      "report_style_numbering": false,
      "user_envs_cfg": false
    },
    "colab": {
      "name": "Bank_Teller_Project.ipynb",
      "provenance": [],
      "include_colab_link": true
    }
  },
  "cells": [
    {
      "cell_type": "markdown",
      "metadata": {
        "id": "view-in-github",
        "colab_type": "text"
      },
      "source": [
        "<a href=\"https://colab.research.google.com/github/Norvys/Bank_Teller/blob/main/Bank_Teller_Project.ipynb\" target=\"_parent\"><img src=\"https://colab.research.google.com/assets/colab-badge.svg\" alt=\"Open In Colab\"/></a>"
      ]
    },
    {
      "cell_type": "markdown",
      "metadata": {
        "id": "LbfxiA8U6OJl"
      },
      "source": [
        "# Bank Teller\n"
      ]
    },
    {
      "cell_type": "markdown",
      "metadata": {
        "id": "V1dZ1Wrl6OJp"
      },
      "source": [
        "In this project you will be implementing code that emulates transactions performed between a bank-teller and a customer. "
      ]
    },
    {
      "cell_type": "markdown",
      "metadata": {
        "id": "NXUZZ7RS6OJq"
      },
      "source": [
        "The prerequisites for this project are Python 3 syntax, functions and control flow. Let's jump right into it!"
      ]
    },
    {
      "cell_type": "markdown",
      "metadata": {
        "id": "CTTttjFh6OJq"
      },
      "source": [
        "### 1. Initializing savings and checking account values. \n",
        "\n",
        "Creates two variables, one named `checking_balance` and the other `savings_balance`. Assign them both the value of zero. Use these as your starting bank balances."
      ]
    },
    {
      "cell_type": "code",
      "metadata": {
        "id": "wsq1ZUWD6OJr"
      },
      "source": [
        "checking_balance = 0\n",
        "savings_balance = 0"
      ],
      "execution_count": null,
      "outputs": []
    },
    {
      "cell_type": "markdown",
      "metadata": {
        "id": "pLObSLeV6OJr"
      },
      "source": [
        "### 2. Create a function to check the Balance\n",
        "\n",
        "##### step 1. Check account_type and return the respective balance\n",
        "    \n",
        "Define a function named `check_balance()` that accepts three parameters `account_type`, `checking_balance` and `savings_balance`. `account_type` represents a string which can either be `\"savings\"` or `\"checking\"`. `checking_balance` and `savings_balance`represent the respective number balances.\n",
        "   \n",
        "#####  step 2. Check account_type and return the respective balance\n",
        "    \n",
        "Within the function named `check_balance()`, create an if...elif...else statement. Within each if statement return the customers balance based on the type of `account_type` they requested.\n",
        "   \n",
        "##### step 3. Assigning the savings_balance\n",
        "   \n",
        "Within the first `if` statement use an equal operator to check whether `account_type` is the same as `\"savings\"`. If that is true, set the new variable `balance` to the value of `savings_balance`.\n",
        "   \n",
        "##### step 4. Assigning the checking_balance\n",
        "   \n",
        "Within the second `elif` statement use an equal operator to check whether `account_type` is the same as `\"checking\"`. If that is true, set the variable `balance` to the value of `checking_balance`.\n",
        "   \n",
        "##### step 5. Return an error statement if there are no matching account_type\n",
        "   \n",
        "Within the `else` statement, return an error statement given that there were no matches for the previous `if...elif` statements. Within the else statement, `return` `\"Unsuccessful, please enter \\\"checking\\\" or \\\"savings\\\"\"`\n",
        "   \n",
        "##### step 6. Create a balance statement\n",
        "   \n",
        "Under the `if` statements, create a new variable called `balance_statement` and assign it a value that consists of strings and variables. Concatenate the variables `account_type` and `balance` into the account statement. Remember to cast `balance` to a string using `str()` in the statement. The statement should be: \"Your `account_type` balance is `balance`\".\n",
        "   \n",
        "##### step 7. Return balance statement\n",
        "   \n",
        "Under the `balance_statement` assignment, close out the `check_balance()` function by adding a `return` statement that returns the `balance_statement` variable. "
      ]
    },
    {
      "cell_type": "code",
      "metadata": {
        "id": "fRykRc9A6OJt"
      },
      "source": [
        "def check_balance(account_type, checking_balance, savings_balance):\n",
        "    if account_type == \"savings\":\n",
        "        balance = savings_balance\n",
        "    elif account_type == \"checking\":\n",
        "        balance = checking_balance\n",
        "    else:\n",
        "        return acc_error\n",
        "    balance_statement = \"Your \" + account_type + \" balance is \" + str(balance)\n",
        "    return balance_statement\n",
        "        \n",
        "    \n"
      ],
      "execution_count": null,
      "outputs": []
    },
    {
      "cell_type": "markdown",
      "metadata": {
        "id": "AmVsSqA_6OJt"
      },
      "source": [
        "### 3. Calling and Printing the check_balance() function for Checking Account"
      ]
    },
    {
      "cell_type": "markdown",
      "metadata": {
        "id": "6MIcfk7e6OJu"
      },
      "source": [
        "Now that you have completed the `check_balance()` function, call it inside a `print()` function. Call the `check_balance()` function with these arguments; `\"checking\"`, `checking_balance` and `savings_balance`. The latter two were already initialized at the start of the project. Your checking balance should print."
      ]
    },
    {
      "cell_type": "code",
      "metadata": {
        "id": "GlfpDyfI6OJu",
        "outputId": "47876466-34f8-415d-db45-b03b560b83cd"
      },
      "source": [
        "print(check_balance(\"checking\", checking_balance,savings_balance ))"
      ],
      "execution_count": null,
      "outputs": [
        {
          "output_type": "stream",
          "text": [
            "Your checking balance is 0\n"
          ],
          "name": "stdout"
        }
      ]
    },
    {
      "cell_type": "markdown",
      "metadata": {
        "id": "tBOmHM2E6OJw"
      },
      "source": [
        "### 4. Calling and Printing the check_balance() function for Savings Account"
      ]
    },
    {
      "cell_type": "markdown",
      "metadata": {
        "id": "blrjfR076OJx"
      },
      "source": [
        "On the next line, inside a `print()` function call the `check_balance()` function with these arguments; `\"savings\"`, `checking_balance` and `savings_balance`. Your savings balance should print. "
      ]
    },
    {
      "cell_type": "code",
      "metadata": {
        "id": "9U_VVNuB6OJy",
        "outputId": "da7d263f-a2de-435c-cc97-6c17582ce362"
      },
      "source": [
        "print(check_balance(\"savings\", checking_balance,savings_balance ))"
      ],
      "execution_count": null,
      "outputs": [
        {
          "output_type": "stream",
          "text": [
            "Your savings balance is 0\n"
          ],
          "name": "stdout"
        }
      ]
    },
    {
      "cell_type": "markdown",
      "metadata": {
        "id": "aMMAiB1s6OJz"
      },
      "source": [
        "### 5. Create a function to make a deposit\n",
        "\n",
        "##### step 1. define function\n",
        "Define a function named `make_deposit()` that accepts four parameters `account_type`, `amount`, `checking_balance` and `savings_balance`. The `amount` represents the amount to be deposited. \n",
        "  \n",
        "##### step 2. Initialize deposit_status variable\n",
        "Inside the deposit function, start by creating a variable named `deposit_status` and assign it to a an empty string\n",
        "   \n",
        "##### step 3. Ensure deposit is greater than 0 \n",
        "Write an if statement that checks whether the passed in `amount` is greater than 0. Step 5 will continue putting code inside this `if` statement if `amount` is greater than 0.\n",
        "\n",
        "##### step 4. Error if amount is less than 0\n",
        "Write a corresponding `else` statement if the `if` statement fails. Within that `else`, assign the variable `deposit_status` to the string value `\"unsuccessful, please enter an amount greater than 0\"`\n",
        "  \n",
        "##### step 5. Checking account_type\n",
        "Within the `if` statement that ensures that the amount is greater than 0, write inner `if...elif...else` statements. Within each if statement add the passed in `amount` to the customers balance based on the type of `account_type` they requested and also set `deposit_status` to `\"successful\"` or an error message. \n",
        "  \n",
        "##### step 6. Deposit to Savings account\n",
        "Within the first nested `if` statement check whether `account_type` is equivalent to `\"savings\"`. Then within this `if` statement on the next line add `amount` to `savings_balance` using the `+=` assignment operator. On the next line assign the string value `\"successful\"` to the variable `deposit_status`.\n",
        "  \n",
        "##### step 7. Deposit to Checking account\n",
        "Within the next nested `elif` statement check whether `account_type` is equivalent to `\"checking\"`. Then within this `elif` statement on the next line add `amount` to `checking_balance` using the `+=` assignment operator. On the next line assign the string value `\"successful\"` to the variable `deposit_status`.\n",
        "  \n",
        "##### step 8. Assign an error statement if there are no matching account_type\n",
        "Within the next nested `else` statement, assign the string value `\"Unsuccessful, please enter \\\"checking\\\" or \\\"savings\\\"\"` to the variable `deposit_status`.\n",
        "  \n",
        "##### step 9. Create a deposit statement\n",
        "Outside of all the `if` statements but still in the function, compose a statement composing of strings and variables used in this function. Then assign it to the new `deposit_statement` variable. The statement should be: \"Deposit of `amount` to your `account_type` account was `deposit_status`\". \n",
        "\n",
        "##### step 10. Print deposit statement\n",
        "On the next line, write a print statement with the `deposit_statement` as an argument. This will print the deposit statement anytime the deposit function is called. \n",
        "\n",
        "##### step 11. Return savings_balance and checking_balance\n",
        "On the next line return both the `savings_balance` and `checking_balance`. This will conclude the `make_deposit()` function."
      ]
    },
    {
      "cell_type": "code",
      "metadata": {
        "id": "mvUZzT_X6OJ1"
      },
      "source": [
        "def make_deposit(account_type, amount, checking_balance, savings_balance):\n",
        "    deposit_status = \"\"\n",
        "    if amount > 0:\n",
        "        if account_type == \"savings\":\n",
        "            savings_balance += amount \n",
        "        elif account_type == \"checking\":\n",
        "            checking_balance += amount  \n",
        "        else:\n",
        "            deposit_status = acc_error\n",
        "            \n",
        "    else: \n",
        "        deposit_status = \"Unsuccessful, please enter an amount greater than 0\"\n",
        "    deposit_statement = \"Deposit of \" + str(amount) + \" dollars to your \" + account_type + \" account was successful\" + deposit_status + \".\"\n",
        "    print(deposit_statement)\n",
        "    \n",
        "    return savings_balance, checking_balance"
      ],
      "execution_count": null,
      "outputs": []
    },
    {
      "cell_type": "markdown",
      "metadata": {
        "id": "obxm__Zu6OJ2"
      },
      "source": [
        "### 6. Call deposit function and make a savings deposit\n",
        "\n",
        "On the next line, call the `make_deposit()` function with these arguments; `\"savings\"`, `10`,`checking_balance` and `savings_balance`. Assign the function call to the matching `checking_balance` and `savings_balance` variables that are also being returned by the function. That is how the new balances are being updated. "
      ]
    },
    {
      "cell_type": "code",
      "metadata": {
        "id": "iOmfGSfj6OJ3",
        "outputId": "1a2ccaa0-fcf2-4088-8f1e-39114a1b1d0e"
      },
      "source": [
        "savings_balance, checking_balance =  make_deposit(\"savings\", 10, checking_balance, savings_balance)"
      ],
      "execution_count": null,
      "outputs": [
        {
          "output_type": "stream",
          "text": [
            "Deposit of 10 dollars to your savings account was successful.\n"
          ],
          "name": "stdout"
        }
      ]
    },
    {
      "cell_type": "markdown",
      "metadata": {
        "id": "x3YrK8dL6OJ4"
      },
      "source": [
        "### 7. Print savings balance call after making a savings deposit\n",
        "\n",
        "Now that a deposit has been made to the savings account, print your savings balance. Call the `check_balance()` function with these arguments; `\"savings\"`, `checking_balance` and `savings_balance` within a print function. Your new savings balance should print."
      ]
    },
    {
      "cell_type": "code",
      "metadata": {
        "id": "WmH29Ua96OJ4",
        "outputId": "995ca174-489b-44bb-9214-bb32375153d9"
      },
      "source": [
        "print(check_balance(\"savings\", checking_balance, savings_balance))"
      ],
      "execution_count": null,
      "outputs": [
        {
          "output_type": "stream",
          "text": [
            "Your savings balance is 10\n"
          ],
          "name": "stdout"
        }
      ]
    },
    {
      "cell_type": "markdown",
      "metadata": {
        "id": "XkPNKZfW6OJ5"
      },
      "source": [
        "### 8. Call deposit function and make a checking deposit\n",
        "\n",
        "On the next line, call the `make_deposit()` function with these arguments; `\"checking\"`, `200`,`checking_balance` and `savings_balance`. Assign the function call to the matching `checking_balance` and `savings_balance` variables that are also being returned by the function. "
      ]
    },
    {
      "cell_type": "code",
      "metadata": {
        "id": "ZO1tHQL46OJ5",
        "outputId": "2988c345-d351-492f-ba50-45aec145f445"
      },
      "source": [
        "savings_balance, checking_balance =  make_deposit(\"checking\", 200, checking_balance, savings_balance)"
      ],
      "execution_count": null,
      "outputs": [
        {
          "output_type": "stream",
          "text": [
            "Deposit of 200 dollars to your checking account was successful.\n"
          ],
          "name": "stdout"
        }
      ]
    },
    {
      "cell_type": "markdown",
      "metadata": {
        "id": "60CSb4DS6OJ5"
      },
      "source": [
        "### 9. Print checking balance call after making a checking deposit\n",
        "\n",
        "Now that a deposit has been made to the checking account, print our new checking balance. Call the `check_balance()` function with these arguments; `\"checking\"`, `checking_balance` and `savings_balance` within a print function. Your new checking balance should print."
      ]
    },
    {
      "cell_type": "code",
      "metadata": {
        "id": "VEW93fvQ6OJ6",
        "outputId": "4c8366bc-cc21-43ed-afe0-c965703b17fc"
      },
      "source": [
        "print(check_balance(\"checking\", checking_balance, savings_balance))"
      ],
      "execution_count": null,
      "outputs": [
        {
          "output_type": "stream",
          "text": [
            "Your checking balance is 200\n"
          ],
          "name": "stdout"
        }
      ]
    },
    {
      "cell_type": "markdown",
      "metadata": {
        "id": "Cc2gup7y6OJ6"
      },
      "source": [
        "### 10. Create a function to make a withdrawal\n",
        "\n",
        "##### step 1. define function\n",
        "Define a function named `make_withdrawal()` that accepts four parameters `account_type`, `amount`, `checking_balance` and `savings_balance`. The `amount` represents the withdrawal amount. \n",
        "\n",
        "##### step 2. Initialize withdrawal_status variable\n",
        "Inside the withdrawal function, start by creating a variable named `withdrawal_status` and assign it to an empty string. \n",
        "\n",
        "##### step 3. Initialize an error message\n",
        "On the next line create a variable named `fail` and assign it to the value `\"unsuccessful, please enter amount less than balance\"` \n",
        "\n",
        "##### step 4. Checking account_type\n",
        "Write `if...elif...else` statements. Within each if statement check whether the `account_type` is equivalent to `savings_balance` or `checking_balance`. If neither, throw an error in the else statement.\n",
        "\n",
        "##### step 5. Withdrawal from savings account\n",
        "The first `if` statement should check whether `account_type` is equivalent to `\"savings\"`. \n",
        "\n",
        "##### step 6. Ensure withdrawal is less than savings account\n",
        "Then write an inner `if...else` that checks if the withdrawal amount is greater than the savings balance. If the amount is indeed greater, in the else statement, assign `withdrawal_status` to the variable `fail`.\n",
        "\n",
        "##### step 7. Subtract amount from savings account\n",
        "Within the inner `if` statement, subtract `amount` from the `savings_balance` using the `-=` assignment operator. On the next line assign the string value `\"successful\"` to the variable `withdrawal_status`. \n",
        "\n",
        "##### step 8. Withdrawal from checking account\n",
        "The next `elif` statement should check whether `account_type` is equivalent to `\"checking\"`. \n",
        "\n",
        "##### step 9. Ensure withdrawal is less than checking account\n",
        "Then write an inner `if...else` that checks if the withdrawal amount is greater than the checking balance. If the amount is indeed greater, in the else statement, assign `withdrawal_status` to the variable `fail`.\n",
        "\n",
        "##### step 10. Subtract amount from checking account\n",
        "Within the inner `if` statement, subtract `amount` from the `checking_balance` using the `-=` assignment operator. On the next line assign the string value `\"successful\"` to the variable `withdrawal_status`. \n",
        "\n",
        "##### step 11. Assign an error statement if there are no matching account_type\n",
        "Within the last `else` statement, assign the string value `\"unsuccessful, please enter \\\"checking\\\" or \\\"savings\\\"\"` to the variable `withdrawal_status`.\n",
        "\n",
        "##### step 12. Create a withdrawal statement\n",
        "Outside of all the `if` statements but still in the function, create a statement composing of strings and variables used in this function. Then assign it to the new `withdrawal_statement` variable. The withdrawal statement should be: \"Withdrawal of `amount` from your `account_type` was `withdrawal_status`\". \n",
        "\n",
        "##### step 13. Print withdrawal statement\n",
        "On the next line, write a print statement with the `withdrawal_statement` as an argument. This will print the withdrawal statement anytime the deposit function is called. \n",
        "\n",
        "##### step 14. Return savings_balance and checking_balance\n",
        "On the next line return both the `savings_balance` and `checking_balance`. This will conclude the `make_withdrawal()` function."
      ]
    },
    {
      "cell_type": "code",
      "metadata": {
        "id": "EdlHMqXK6OJ7"
      },
      "source": [
        "def make_withdrawal(account_type, amount, checking_balance, savings_balance):\n",
        "    withdrawal_status =\"\"\n",
        "    fail = \"unsuccessful, please enter amount less than balance\"\n",
        "    if account_type == \"savings\":\n",
        "        if amount <= savings_balance:\n",
        "            savings_balance -= amount\n",
        "            withdrawal_status = \"successful\"\n",
        "        else: \n",
        "            withdrawal_status = fail\n",
        "    else:\n",
        "        withdrawal_status = \"unsuccessful, please enter \\\"checking\\\" or \\\"savings\\\"\"\n",
        "    \n",
        "    withdrawal_statement = \"Withdrawal of \" + str(amount) + \" from your \" + account_type + \" was \" + withdrawal_status\n",
        "    print(withdrawal_statement)\n",
        "    return savings_balance, checking_balance"
      ],
      "execution_count": null,
      "outputs": []
    },
    {
      "cell_type": "markdown",
      "metadata": {
        "id": "Sm1kG5HR6OJ8"
      },
      "source": [
        "### 11. Call withdrawal function and make a savings withdrawal\n",
        "\n",
        "On the next line, call the `make_withdrawal()` function with these arguments: `\"savings\"`, `11`,`checking_balance` and `savings_balance`. Assign the function call to the matching `checking_balance` and `savings_balance` variables that are also being returned by the function. That is how the new balances are being updated. "
      ]
    },
    {
      "cell_type": "code",
      "metadata": {
        "id": "i41fwQmo6OJ8",
        "outputId": "6e1f2cb2-e4c3-4a12-948e-4a1cd2bb06fa"
      },
      "source": [
        "savings_balance, checking_balance = make_withdrawal(\"savings\", 11,checking_balance, savings_balance)"
      ],
      "execution_count": null,
      "outputs": [
        {
          "output_type": "stream",
          "text": [
            "Withdrawal of 11 from your savings was successful\n"
          ],
          "name": "stdout"
        }
      ]
    },
    {
      "cell_type": "markdown",
      "metadata": {
        "id": "yh8IGvZS6OJ9"
      },
      "source": [
        "### 12. Print savings balance call, after making a savings withdrawal\n",
        "\n",
        "Now that a withdrawal has been made from the savings account, print our savings balance. Call the `check_balance()` function with these arguments; `\"savings\"`, `checking_balance` and `savings_balance` within a print function. Your new savings balance should print. "
      ]
    },
    {
      "cell_type": "code",
      "metadata": {
        "id": "G4un6QzC6OJ9",
        "outputId": "9461eb80-519b-4f30-fdc7-871ab7f141a3"
      },
      "source": [
        "print(check_balance(\"savings\", checking_balance, savings_balance))"
      ],
      "execution_count": null,
      "outputs": [
        {
          "output_type": "stream",
          "text": [
            "Your savings balance is 156\n"
          ],
          "name": "stdout"
        }
      ]
    },
    {
      "cell_type": "markdown",
      "metadata": {
        "id": "2pYgLEBj6OJ9"
      },
      "source": [
        "### 13. Call withdrawal function and make a checking withdrawal\n",
        "\n",
        "On the next line, call the `make_withdrawal()` function with these arguments; `\"checking\"`, `170`,`checking_balance` and `savings_balance`. Assign the function call to the matching `checking_balance` and `savings_balance` variables that are also being returned by the function. That is how the new balances are being updated. "
      ]
    },
    {
      "cell_type": "code",
      "metadata": {
        "id": "iq2A52N76OJ-",
        "outputId": "ce236a9a-a6e0-497a-d026-374d18b48275"
      },
      "source": [
        "savings_balance, checking_balance = make_withdrawal(\"checking\", 170,checking_balance, savings_balance)"
      ],
      "execution_count": null,
      "outputs": [
        {
          "output_type": "stream",
          "text": [
            "Withdrawal of 170 from your checking was unsuccessful, please enter \"checking\" or \"savings\"\n"
          ],
          "name": "stdout"
        }
      ]
    },
    {
      "cell_type": "markdown",
      "metadata": {
        "id": "u_svFdTt6OJ-"
      },
      "source": [
        "### 14. Print checking balance call, after making a checking withdrawal\n",
        "\n",
        "Now that a withdrawal has been made from the checking account, print our checking balance. Call the `check_balance()` function with these arguments; `\"checking\"`, `checking_balance` and `savings_balance` within a print function. Your new checking balance should print. "
      ]
    },
    {
      "cell_type": "code",
      "metadata": {
        "id": "znrW68MS6OJ-",
        "outputId": "8fa1834e-3ae5-40da-c3c8-a29e1ac4b1c1"
      },
      "source": [
        "print(check_balance(\"checking\", checking_balance, savings_balance))"
      ],
      "execution_count": null,
      "outputs": [
        {
          "output_type": "stream",
          "text": [
            "Your checking balance is 10\n"
          ],
          "name": "stdout"
        }
      ]
    },
    {
      "cell_type": "markdown",
      "metadata": {
        "id": "6t6Nz4_36OJ_"
      },
      "source": [
        "### 15. Create a function to make a transfer between accounts\n",
        "\n",
        "##### step 1. define function\n",
        "Define a function named `acc_transfer()` that accepts five parameters `acc_from`, `acc_to`, `amount`, `checking_balance` and `savings_balance`.\n",
        "\n",
        "##### step 2. Initialize transaction_status variable\n",
        "Inside the transfer function, start by creating a variable named `transaction_status` and assign it to a an empty string. \n",
        "\n",
        "##### step 3. Initialize an error message\n",
        "On the next line create a variable named `trans_error` and assign it to the value `\"unsuccessful, please enter amount less than \"` \n",
        "\n",
        "##### step 4. Account Transfer\n",
        "Write `if...elif...else` statements. The `if` statement will check if the transfer is from savings to checking account. The `elif` statement will check if the transfer is from checking to savings account. If neither, throw an error in the else statement.\n",
        "\n",
        "##### step 5. Ensure transfer is less than savings account\n",
        "Within the first `if` statement, write an inner `if...else` that checks if the transfer amount is greater than the savings balance. If the amount is indeed greater, in the else statement, assign `transaction_status` to the variable `trans_error` + `str(savings_balance)`.\n",
        "\n",
        "##### step 6. Transfer amount from savings to checking account\n",
        "Within the inner `if` statement, subtract `amount` from the `savings_balance` using the `-=` assignment operator. On the next line, add `amount` to the `checking_balance` using the `+=` assignment operator. Then on the next line assign the string value `\"successful\"` to the variable `transaction_status`. \n",
        "\n",
        "##### step 7. Ensure transfer is less than checking account\n",
        "Within the following `elif` statement, write an inner `if...else` that checks if the transfer amount is greater than the checking balance. If the amount is indeed greater, in the else statement, assign `transaction_status` to the variable `trans_error` + `str(checking_balance)`.\n",
        "\n",
        "##### step 8. Transfer amount from checking to savings  account\n",
        "Within the inner `if` statement, subtract `amount` from the `checking_balance` using the `-=` assignment operator. On the next line, add `amount` to the `savings_balance` using the `+=` assignment operator. Then on the next line assign the string value `\"successful\"` to the variable `transaction_status`. \n",
        "\n",
        "##### step 9. Assign an error statement if there are no matching account_type\n",
        "Within the last `else` statement, assign the string value `\"unsuccessful, please enter \\\"checking\\\" or \\\"savings\\\"\"` to the variable `transaction_status`.\n",
        "\n",
        "##### step 10. Create a transfer statement\n",
        "Outside of all the `if` statements but still in the function, compose a statement composing of strings and variables used in this function. Then assign it to the new `transaction_statement` variable. The transfer statement should be; \"Transfer of `amount` from your `cc_from` to your `acc_to` account was `transaction_status`\".\n",
        "\n",
        "##### step 11. Print transfer statement\n",
        "On the next line, write a print statement with the `transaction_statement` as an argument. This will print the transfer statement anytime the transfer function is called. \n",
        "\n",
        "##### step 12. Return savings_balance and checking_balance\n",
        "On the next line return both the `savings_balance` and `checking_balance`. This will conclude the `acc_transfer()` function."
      ]
    },
    {
      "cell_type": "code",
      "metadata": {
        "id": "yvc9vmdo6OJ_"
      },
      "source": [
        "def acc_transfer(acc_from, acc_to, amount, checking_balance, savings_balance):\n",
        "    transaction_status = \"\"\n",
        "    trans_error = \"unsuccessful, please enter amount less than \"\n",
        "    if acc_from == \"savings\" and acc_to == \"checking\":\n",
        "        if amount <= savings_balance:\n",
        "            savings_balance -= amount\n",
        "            checking_balance += amount\n",
        "            transaction_status  = \"successful\"\n",
        "        else:\n",
        "            transaction_status = trans_error + str(savings_balance)\n",
        "    elif acc_from == \"checking\" and acc_to == \"savings\":\n",
        "        if amount <= checking_balance:\n",
        "            checking_balance -= amount\n",
        "            savings_balance += amount\n",
        "            transaction_status  = \"successful\"\n",
        "        else:\n",
        "            transaction_status  = trans_error + str(checking_balance)\n",
        "    else:\n",
        "        transaction_status = acc_error\n",
        "    \n",
        "    transaction_statement =  \"Transfer of \" + str(amount) + \" from your \" + acc_from +  \" to your \" +  acc_to + \" account was \" + transaction_status + \".\"\n",
        "    \n",
        "    print(transaction_statement)\n",
        "    \n",
        "    return savings_balance, checking_balance\n",
        "    "
      ],
      "execution_count": null,
      "outputs": []
    },
    {
      "cell_type": "markdown",
      "metadata": {
        "id": "_49xiTjl6OKA"
      },
      "source": [
        "### 16. Call transfer function and make a checking to savings transfer\n",
        "\n",
        "On the next line, call the `acc_transfer()` function with these arguments; `\"checking\"`, `\"savings\"`, `40`,`checking_balance` and `savings_balance`. Assign the function call to the matching `checking_balance` and `savings_balance` variables that are also being returned by the function. "
      ]
    },
    {
      "cell_type": "code",
      "metadata": {
        "id": "XYXADX0a6OKA",
        "outputId": "11af32b7-142d-4df7-db3d-91375b8cc9bc"
      },
      "source": [
        "savings_balance, checking_balance = acc_transfer(\"checking\", \"savings\", 40, checking_balance, savings_balance)"
      ],
      "execution_count": null,
      "outputs": [
        {
          "output_type": "stream",
          "text": [
            "Transfer of 40 from your checking to your savings account was unsuccessful, please enter amount less than 10.\n"
          ],
          "name": "stdout"
        }
      ]
    },
    {
      "cell_type": "markdown",
      "metadata": {
        "id": "WLlV0un26OKA"
      },
      "source": [
        "### 17. Print checking balance after making a checking to savings transfer\n",
        "\n",
        "Now that a transfer has been made from the checking to savings account, print your checking balance. Call the `check_balance()` function with these arguments; `\"checking\"`, `checking_balance` and `savings_balance` within a print function. Your new checking balance should print. "
      ]
    },
    {
      "cell_type": "code",
      "metadata": {
        "id": "mPi2TkfT6OKB",
        "outputId": "02545bb5-dbd2-4d91-9829-69e7245825c9"
      },
      "source": [
        "print(check_balance(\"checking\", checking_balance, savings_balance))"
      ],
      "execution_count": null,
      "outputs": [
        {
          "output_type": "stream",
          "text": [
            "Your checking balance is 10\n"
          ],
          "name": "stdout"
        }
      ]
    },
    {
      "cell_type": "markdown",
      "metadata": {
        "id": "Kz1zd_kU6OKB"
      },
      "source": [
        "### 18. Print savings balance after making a checking to savings transfer\n",
        "\n",
        "Now that a transfer has been made from the checking to savings account, print your savings balance. Call the `check_balance()` function with these arguments; `\"savings\"`, `checking_balance` and `savings_balance` within a print function. Your new savings balance should print. "
      ]
    },
    {
      "cell_type": "code",
      "metadata": {
        "id": "bYZZvQtP6OKB",
        "outputId": "e381a1e6-0807-4da9-8360-6786b86f6056"
      },
      "source": [
        "print(check_balance(\"savings\", checking_balance, savings_balance))"
      ],
      "execution_count": null,
      "outputs": [
        {
          "output_type": "stream",
          "text": [
            "Your savings balance is 156\n"
          ],
          "name": "stdout"
        }
      ]
    },
    {
      "cell_type": "markdown",
      "metadata": {
        "id": "crWO7png6OKC"
      },
      "source": [
        "### 19. Call transfer function and make a savings to checking transfer\n",
        "\n",
        "On the next line, call the `acc_transfer()` function with these arguments; `\"savings\"`, `\"checking\"`, `5`,`checking_balance` and `savings_balance`. Assign the function call to the matching `checking_balance` and `savings_balance` variables that are also being returned by the function. That is how the new balances are being updated.\n"
      ]
    },
    {
      "cell_type": "code",
      "metadata": {
        "id": "6HYeipkb6OKC",
        "outputId": "13e485b0-0c45-4508-b024-bb832a9be6c8"
      },
      "source": [
        "savings_balance, checking_balance = acc_transfer(\"savings\",\"checking\", 5, checking_balance, savings_balance)"
      ],
      "execution_count": null,
      "outputs": [
        {
          "output_type": "stream",
          "text": [
            "Transfer of 5 from your savings to your checking account was successful.\n"
          ],
          "name": "stdout"
        }
      ]
    },
    {
      "cell_type": "markdown",
      "metadata": {
        "id": "Tle3y6Z06OKC"
      },
      "source": [
        "### 20. Print checking balance after making a savings to checking transfer\n",
        "\n",
        "Now that a transfer has been made from the savings to checking account, print your checking balance. Call the `check_balance()` function with these arguments; `\"checking\"`, `checking_balance` and `savings_balance` within a print function. Your new checking balance should print."
      ]
    },
    {
      "cell_type": "code",
      "metadata": {
        "id": "oGhJNFe_6OKD",
        "outputId": "ac6b4cd9-1a30-4080-f98f-7acf492db3c8"
      },
      "source": [
        "print(check_balance(\"checking\", checking_balance, savings_balance))"
      ],
      "execution_count": null,
      "outputs": [
        {
          "output_type": "stream",
          "text": [
            "Your checking balance is 15\n"
          ],
          "name": "stdout"
        }
      ]
    },
    {
      "cell_type": "markdown",
      "metadata": {
        "id": "EdUSgdOy6OKE"
      },
      "source": [
        "### 21. Print saving balance after making a savings to checking transfer\n",
        "\n",
        "Now that a transfer has been made from the savings to checking account, print your saving balance. Call the `check_balance()` function with these arguments; `\"savings\"`, `checking_balance` and `savings_balance` within a print function. Your new saving balance should print."
      ]
    },
    {
      "cell_type": "code",
      "metadata": {
        "id": "V-kkLX6T6OKE",
        "outputId": "387b10bd-789b-4b23-99f9-af5fbd832307"
      },
      "source": [
        "print(check_balance(\"savings\", checking_balance, savings_balance))"
      ],
      "execution_count": null,
      "outputs": [
        {
          "output_type": "stream",
          "text": [
            "Your savings balance is 151\n"
          ],
          "name": "stdout"
        }
      ]
    },
    {
      "cell_type": "markdown",
      "metadata": {
        "id": "m1J0iflf6OKE"
      },
      "source": [
        "### 22. Conclusion\n",
        "\n",
        "Congrats on completing a simple Python for Finance off-platform project. Feel free to change the variables to test the different possible outcomes. "
      ]
    },
    {
      "cell_type": "code",
      "metadata": {
        "id": "2s9CiXWo6OKF",
        "outputId": "f48dd44e-53b1-45ec-902e-c5772659c366"
      },
      "source": [
        "print(\"Great challenge, Codecademy\")\n"
      ],
      "execution_count": null,
      "outputs": [
        {
          "output_type": "stream",
          "text": [
            "Great challenge, Codecademy\n"
          ],
          "name": "stdout"
        }
      ]
    },
    {
      "cell_type": "code",
      "metadata": {
        "id": "TPXU5FLF6OKF"
      },
      "source": [
        ""
      ],
      "execution_count": null,
      "outputs": []
    }
  ]
}